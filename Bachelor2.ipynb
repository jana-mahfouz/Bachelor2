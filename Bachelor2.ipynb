{
  "nbformat": 4,
  "nbformat_minor": 0,
  "metadata": {
    "colab": {
      "provenance": [],
      "authorship_tag": "ABX9TyPZkcmcLq1qeeSsRvolb3Se",
      "include_colab_link": true
    },
    "kernelspec": {
      "name": "python3",
      "display_name": "Python 3"
    },
    "language_info": {
      "name": "python"
    }
  },
  "cells": [
    {
      "cell_type": "markdown",
      "metadata": {
        "id": "view-in-github",
        "colab_type": "text"
      },
      "source": [
        "<a href=\"https://colab.research.google.com/github/jana-mahfouz/Bachelor2/blob/main/Bachelor2.ipynb\" target=\"_parent\"><img src=\"https://colab.research.google.com/assets/colab-badge.svg\" alt=\"Open In Colab\"/></a>"
      ]
    },
    {
      "cell_type": "markdown",
      "source": [
        "Importing csv files"
      ],
      "metadata": {
        "id": "W4cO_KmUSsfp"
      }
    },
    {
      "cell_type": "code",
      "execution_count": 1,
      "metadata": {
        "colab": {
          "base_uri": "https://localhost:8080/",
          "height": 316
        },
        "id": "wxg3YDU0SkMw",
        "outputId": "38ae0960-3b6c-49ba-faf5-5f6cb38ee056"
      },
      "outputs": [
        {
          "output_type": "display_data",
          "data": {
            "text/plain": [
              "<IPython.core.display.HTML object>"
            ],
            "text/html": [
              "\n",
              "     <input type=\"file\" id=\"files-9e4d1b3b-369f-4b2a-a676-c638c0865451\" name=\"files[]\" multiple disabled\n",
              "        style=\"border:none\" />\n",
              "     <output id=\"result-9e4d1b3b-369f-4b2a-a676-c638c0865451\">\n",
              "      Upload widget is only available when the cell has been executed in the\n",
              "      current browser session. Please rerun this cell to enable.\n",
              "      </output>\n",
              "      <script>// Copyright 2017 Google LLC\n",
              "//\n",
              "// Licensed under the Apache License, Version 2.0 (the \"License\");\n",
              "// you may not use this file except in compliance with the License.\n",
              "// You may obtain a copy of the License at\n",
              "//\n",
              "//      http://www.apache.org/licenses/LICENSE-2.0\n",
              "//\n",
              "// Unless required by applicable law or agreed to in writing, software\n",
              "// distributed under the License is distributed on an \"AS IS\" BASIS,\n",
              "// WITHOUT WARRANTIES OR CONDITIONS OF ANY KIND, either express or implied.\n",
              "// See the License for the specific language governing permissions and\n",
              "// limitations under the License.\n",
              "\n",
              "/**\n",
              " * @fileoverview Helpers for google.colab Python module.\n",
              " */\n",
              "(function(scope) {\n",
              "function span(text, styleAttributes = {}) {\n",
              "  const element = document.createElement('span');\n",
              "  element.textContent = text;\n",
              "  for (const key of Object.keys(styleAttributes)) {\n",
              "    element.style[key] = styleAttributes[key];\n",
              "  }\n",
              "  return element;\n",
              "}\n",
              "\n",
              "// Max number of bytes which will be uploaded at a time.\n",
              "const MAX_PAYLOAD_SIZE = 100 * 1024;\n",
              "\n",
              "function _uploadFiles(inputId, outputId) {\n",
              "  const steps = uploadFilesStep(inputId, outputId);\n",
              "  const outputElement = document.getElementById(outputId);\n",
              "  // Cache steps on the outputElement to make it available for the next call\n",
              "  // to uploadFilesContinue from Python.\n",
              "  outputElement.steps = steps;\n",
              "\n",
              "  return _uploadFilesContinue(outputId);\n",
              "}\n",
              "\n",
              "// This is roughly an async generator (not supported in the browser yet),\n",
              "// where there are multiple asynchronous steps and the Python side is going\n",
              "// to poll for completion of each step.\n",
              "// This uses a Promise to block the python side on completion of each step,\n",
              "// then passes the result of the previous step as the input to the next step.\n",
              "function _uploadFilesContinue(outputId) {\n",
              "  const outputElement = document.getElementById(outputId);\n",
              "  const steps = outputElement.steps;\n",
              "\n",
              "  const next = steps.next(outputElement.lastPromiseValue);\n",
              "  return Promise.resolve(next.value.promise).then((value) => {\n",
              "    // Cache the last promise value to make it available to the next\n",
              "    // step of the generator.\n",
              "    outputElement.lastPromiseValue = value;\n",
              "    return next.value.response;\n",
              "  });\n",
              "}\n",
              "\n",
              "/**\n",
              " * Generator function which is called between each async step of the upload\n",
              " * process.\n",
              " * @param {string} inputId Element ID of the input file picker element.\n",
              " * @param {string} outputId Element ID of the output display.\n",
              " * @return {!Iterable<!Object>} Iterable of next steps.\n",
              " */\n",
              "function* uploadFilesStep(inputId, outputId) {\n",
              "  const inputElement = document.getElementById(inputId);\n",
              "  inputElement.disabled = false;\n",
              "\n",
              "  const outputElement = document.getElementById(outputId);\n",
              "  outputElement.innerHTML = '';\n",
              "\n",
              "  const pickedPromise = new Promise((resolve) => {\n",
              "    inputElement.addEventListener('change', (e) => {\n",
              "      resolve(e.target.files);\n",
              "    });\n",
              "  });\n",
              "\n",
              "  const cancel = document.createElement('button');\n",
              "  inputElement.parentElement.appendChild(cancel);\n",
              "  cancel.textContent = 'Cancel upload';\n",
              "  const cancelPromise = new Promise((resolve) => {\n",
              "    cancel.onclick = () => {\n",
              "      resolve(null);\n",
              "    };\n",
              "  });\n",
              "\n",
              "  // Wait for the user to pick the files.\n",
              "  const files = yield {\n",
              "    promise: Promise.race([pickedPromise, cancelPromise]),\n",
              "    response: {\n",
              "      action: 'starting',\n",
              "    }\n",
              "  };\n",
              "\n",
              "  cancel.remove();\n",
              "\n",
              "  // Disable the input element since further picks are not allowed.\n",
              "  inputElement.disabled = true;\n",
              "\n",
              "  if (!files) {\n",
              "    return {\n",
              "      response: {\n",
              "        action: 'complete',\n",
              "      }\n",
              "    };\n",
              "  }\n",
              "\n",
              "  for (const file of files) {\n",
              "    const li = document.createElement('li');\n",
              "    li.append(span(file.name, {fontWeight: 'bold'}));\n",
              "    li.append(span(\n",
              "        `(${file.type || 'n/a'}) - ${file.size} bytes, ` +\n",
              "        `last modified: ${\n",
              "            file.lastModifiedDate ? file.lastModifiedDate.toLocaleDateString() :\n",
              "                                    'n/a'} - `));\n",
              "    const percent = span('0% done');\n",
              "    li.appendChild(percent);\n",
              "\n",
              "    outputElement.appendChild(li);\n",
              "\n",
              "    const fileDataPromise = new Promise((resolve) => {\n",
              "      const reader = new FileReader();\n",
              "      reader.onload = (e) => {\n",
              "        resolve(e.target.result);\n",
              "      };\n",
              "      reader.readAsArrayBuffer(file);\n",
              "    });\n",
              "    // Wait for the data to be ready.\n",
              "    let fileData = yield {\n",
              "      promise: fileDataPromise,\n",
              "      response: {\n",
              "        action: 'continue',\n",
              "      }\n",
              "    };\n",
              "\n",
              "    // Use a chunked sending to avoid message size limits. See b/62115660.\n",
              "    let position = 0;\n",
              "    do {\n",
              "      const length = Math.min(fileData.byteLength - position, MAX_PAYLOAD_SIZE);\n",
              "      const chunk = new Uint8Array(fileData, position, length);\n",
              "      position += length;\n",
              "\n",
              "      const base64 = btoa(String.fromCharCode.apply(null, chunk));\n",
              "      yield {\n",
              "        response: {\n",
              "          action: 'append',\n",
              "          file: file.name,\n",
              "          data: base64,\n",
              "        },\n",
              "      };\n",
              "\n",
              "      let percentDone = fileData.byteLength === 0 ?\n",
              "          100 :\n",
              "          Math.round((position / fileData.byteLength) * 100);\n",
              "      percent.textContent = `${percentDone}% done`;\n",
              "\n",
              "    } while (position < fileData.byteLength);\n",
              "  }\n",
              "\n",
              "  // All done.\n",
              "  yield {\n",
              "    response: {\n",
              "      action: 'complete',\n",
              "    }\n",
              "  };\n",
              "}\n",
              "\n",
              "scope.google = scope.google || {};\n",
              "scope.google.colab = scope.google.colab || {};\n",
              "scope.google.colab._files = {\n",
              "  _uploadFiles,\n",
              "  _uploadFilesContinue,\n",
              "};\n",
              "})(self);\n",
              "</script> "
            ]
          },
          "metadata": {}
        },
        {
          "output_type": "stream",
          "name": "stdout",
          "text": [
            "Saving NodesIndex.csv to NodesIndex (1).csv\n",
            "Saving Nodes.csv to Nodes (1).csv\n",
            "Saving Nodes Type (Plant & Storage).csv to Nodes Type (Plant & Storage) (1).csv\n",
            "Saving Node Types (Product Group and Subgroup).csv to Node Types (Product Group and Subgroup) (1).csv\n",
            "Saving Edges (Storage Location).csv to Edges (Storage Location) (1).csv\n",
            "Saving Edges (Product Sub-Group).csv to Edges (Product Sub-Group) (1).csv\n",
            "Saving Edges (Product Group).csv to Edges (Product Group) (1).csv\n",
            "Saving Edges (Plant).csv to Edges (Plant) (1).csv\n"
          ]
        }
      ],
      "source": [
        "from google.colab import files\n",
        "uploaded = files.upload()\n"
      ]
    },
    {
      "cell_type": "code",
      "source": [
        "import pandas as pd\n",
        "\n",
        "#Load CSV Files\n",
        "nodes_df = pd.read_csv(\"Nodes.csv\")\n",
        "nodes_index_df = pd.read_csv(\"NodesIndex.csv\")\n",
        "nodes_type_plant_storage_df = pd.read_csv(\"Nodes Type (Plant & Storage).csv\")\n",
        "nodes_type_product_group_df = pd.read_csv(\"Node Types (Product Group and Subgroup).csv\")\n",
        "edges_storage_location_df = pd.read_csv(\"Edges (Storage Location).csv\")\n",
        "edges_product_subgroup_df = pd.read_csv(\"Edges (Product Sub-Group).csv\")\n",
        "edges_product_group_df = pd.read_csv(\"Edges (Product Group).csv\")\n",
        "edges_plant_df = pd.read_csv(\"Edges (Plant).csv\")\n",
        "\n",
        "\n",
        "print(nodes_df.head())\n",
        "print(nodes_index_df.head())\n",
        "print(nodes_type_plant_storage_df.head())\n",
        "print(nodes_type_product_group_df.head())\n",
        "print(edges_storage_location_df.head())\n",
        "print(edges_product_subgroup_df.head())\n",
        "print(edges_product_group_df.head())\n",
        "print(edges_plant_df.head())\n"
      ],
      "metadata": {
        "colab": {
          "base_uri": "https://localhost:8080/"
        },
        "id": "v4VweK44SrcL",
        "outputId": "b41b75a5-bdee-4da7-f2af-8f00cab830aa"
      },
      "execution_count": 4,
      "outputs": [
        {
          "output_type": "stream",
          "name": "stdout",
          "text": [
            "         Node\n",
            "0  SOS008L02P\n",
            "1  SOS005L04P\n",
            "2  SOS003L04P\n",
            "3  SOS002L09P\n",
            "4  SOS001L12P\n",
            "         Node  NodeIndex\n",
            "0  SOS008L02P          0\n",
            "1  SOS005L04P          1\n",
            "2  SOS003L04P          2\n",
            "3  SOS002L09P          3\n",
            "4  SOS001L12P          4\n",
            "         Node  Plant  Storage Location\n",
            "0  POV002L09P   2120            2030.0\n",
            "1  SOS001L12P   2120            2030.0\n",
            "2  POP002L09P   2120            2030.0\n",
            "3  POP001L12P   2120            2030.0\n",
            "4  POP001L12P   2120            2030.0\n",
            "         Node Group Sub-Group\n",
            "0  SOS008L02P     S       SOS\n",
            "1  SOS005L04P     S       SOS\n",
            "2  SOS003L04P     S       SOS\n",
            "3  SOS002L09P     S       SOS\n",
            "4  SOS001L12P     S       SOS\n",
            "   Storage Location         node1       node2\n",
            "0             130.0  ATWWP001K24P   ATN01K24P\n",
            "1             330.0    SOS005L04P  SOS002L09P\n",
            "2             330.0    SOS005L04P  SOS003L04P\n",
            "3             330.0    SOS005L04P  SOS500M24P\n",
            "4             330.0    SOS005L04P  SOS001L12P\n",
            "        node1       node2 SubGroupCode\n",
            "0  SOS008L02P  SOS005L04P          SOS\n",
            "1  SOS008L02P  SOS003L04P          SOS\n",
            "2  SOS008L02P  SOS002L09P          SOS\n",
            "3  SOS008L02P  SOS001L12P          SOS\n",
            "4  SOS008L02P  SOS500M24P          SOS\n",
            "        node1       node2 GroupCode\n",
            "0  SOS008L02P  SOS005L04P         S\n",
            "1  SOS008L02P  SOS003L04P         S\n",
            "2  SOS008L02P  SOS002L09P         S\n",
            "3  SOS008L02P  SOS001L12P         S\n",
            "4  SOS008L02P  SOS500M24P         S\n",
            "   Plant         node1      node2\n",
            "0   1901  ATWWP001K24P  ATN01K24P\n",
            "1   1903        AT5X5K  ATN01K24P\n",
            "2   1903        AT5X5K  MAR01K24P\n",
            "3   1903        AT5X5K  SE500G24P\n",
            "4   1903        AT5X5K   MASR025K\n"
          ]
        }
      ]
    },
    {
      "cell_type": "markdown",
      "source": [
        "Merging the csv files"
      ],
      "metadata": {
        "id": "_fQ0Yr2kW55U"
      }
    },
    {
      "cell_type": "code",
      "source": [
        "\n",
        "#Merge Nodes with Index\n",
        "nodes_merged = nodes_df.merge(nodes_index_df, on=\"Node\", how=\"left\")\n",
        "\n",
        "#Merge with Product Group and Sub-Group Data\n",
        "nodes_merged = nodes_merged.merge(nodes_type_product_group_df, on=\"Node\", how=\"left\")\n",
        "\n",
        "#Merge with Plant & Storage Information\n",
        "nodes_merged = nodes_merged.merge(nodes_type_plant_storage_df, on=\"Node\", how=\"left\")\n",
        "\n",
        "#Merge with Edges Data (Relationships)\n",
        "edges_merged = edges_storage_location_df.merge(edges_product_subgroup_df, on=[\"node1\", \"node2\"], how=\"outer\")\n",
        "edges_merged = edges_merged.merge(edges_product_group_df, on=[\"node1\", \"node2\"], how=\"outer\")\n",
        "edges_merged = edges_merged.merge(edges_plant_df, on=[\"node1\", \"node2\"], how=\"outer\")\n",
        "\n",
        "#Merge Nodes with Edges\n",
        "df = edges_merged.merge(nodes_merged, left_on=\"node1\", right_on=\"Node\", how=\"left\")\n",
        "\n",
        "#Save the Merged Dataset\n",
        "df.to_csv(\"merged_supplygraph.csv\", index=False)\n",
        "\n",
        "\n",
        "#Display Results\n",
        "print(\"Final Merged Dataset:\")\n",
        "print(df.head())"
      ],
      "metadata": {
        "colab": {
          "base_uri": "https://localhost:8080/"
        },
        "id": "WVR4PlAKXBd9",
        "outputId": "858a3689-0147-4fca-8dd9-65df62583e59"
      },
      "execution_count": 5,
      "outputs": [
        {
          "output_type": "stream",
          "name": "stdout",
          "text": [
            "Final Merged Dataset:\n",
            "   Storage Location_x   node1      node2 SubGroupCode GroupCode  Plant_x  \\\n",
            "0               330.0  AT5X5K  ATN01K24P          NaN         A   1903.0   \n",
            "1               330.0  AT5X5K  ATN01K24P          NaN         A   1903.0   \n",
            "2               330.0  AT5X5K  ATN01K24P          NaN         A   1903.0   \n",
            "3               330.0  AT5X5K  ATN01K24P          NaN         A   1903.0   \n",
            "4               330.0  AT5X5K  ATN01K24P          NaN         A   1903.0   \n",
            "\n",
            "     Node  NodeIndex Group Sub-Group  Plant_y  Storage Location_y  \n",
            "0  AT5X5K         22     A        AT     1921              2130.0  \n",
            "1  AT5X5K         22     A        AT     1921              2130.0  \n",
            "2  AT5X5K         22     A        AT     1921              2130.0  \n",
            "3  AT5X5K         22     A        AT     1921              2130.0  \n",
            "4  AT5X5K         22     A        AT     1916              1630.0  \n"
          ]
        }
      ]
    },
    {
      "cell_type": "markdown",
      "source": [
        "Data Inspection:"
      ],
      "metadata": {
        "id": "jfDgX0vNaGo2"
      }
    },
    {
      "cell_type": "code",
      "source": [
        "df.head()"
      ],
      "metadata": {
        "colab": {
          "base_uri": "https://localhost:8080/",
          "height": 206
        },
        "id": "uNxEs5nqaKb2",
        "outputId": "a95e8fef-d1c0-4362-bc6d-c91987ffed06"
      },
      "execution_count": 6,
      "outputs": [
        {
          "output_type": "execute_result",
          "data": {
            "text/plain": [
              "   Storage Location_x   node1      node2 SubGroupCode GroupCode  Plant_x  \\\n",
              "0               330.0  AT5X5K  ATN01K24P          NaN         A   1903.0   \n",
              "1               330.0  AT5X5K  ATN01K24P          NaN         A   1903.0   \n",
              "2               330.0  AT5X5K  ATN01K24P          NaN         A   1903.0   \n",
              "3               330.0  AT5X5K  ATN01K24P          NaN         A   1903.0   \n",
              "4               330.0  AT5X5K  ATN01K24P          NaN         A   1903.0   \n",
              "\n",
              "     Node  NodeIndex Group Sub-Group  Plant_y  Storage Location_y  \n",
              "0  AT5X5K         22     A        AT     1921              2130.0  \n",
              "1  AT5X5K         22     A        AT     1921              2130.0  \n",
              "2  AT5X5K         22     A        AT     1921              2130.0  \n",
              "3  AT5X5K         22     A        AT     1921              2130.0  \n",
              "4  AT5X5K         22     A        AT     1916              1630.0  "
            ],
            "text/html": [
              "\n",
              "  <div id=\"df-5749e3f7-255b-4a6d-89bd-424b6bf22311\" class=\"colab-df-container\">\n",
              "    <div>\n",
              "<style scoped>\n",
              "    .dataframe tbody tr th:only-of-type {\n",
              "        vertical-align: middle;\n",
              "    }\n",
              "\n",
              "    .dataframe tbody tr th {\n",
              "        vertical-align: top;\n",
              "    }\n",
              "\n",
              "    .dataframe thead th {\n",
              "        text-align: right;\n",
              "    }\n",
              "</style>\n",
              "<table border=\"1\" class=\"dataframe\">\n",
              "  <thead>\n",
              "    <tr style=\"text-align: right;\">\n",
              "      <th></th>\n",
              "      <th>Storage Location_x</th>\n",
              "      <th>node1</th>\n",
              "      <th>node2</th>\n",
              "      <th>SubGroupCode</th>\n",
              "      <th>GroupCode</th>\n",
              "      <th>Plant_x</th>\n",
              "      <th>Node</th>\n",
              "      <th>NodeIndex</th>\n",
              "      <th>Group</th>\n",
              "      <th>Sub-Group</th>\n",
              "      <th>Plant_y</th>\n",
              "      <th>Storage Location_y</th>\n",
              "    </tr>\n",
              "  </thead>\n",
              "  <tbody>\n",
              "    <tr>\n",
              "      <th>0</th>\n",
              "      <td>330.0</td>\n",
              "      <td>AT5X5K</td>\n",
              "      <td>ATN01K24P</td>\n",
              "      <td>NaN</td>\n",
              "      <td>A</td>\n",
              "      <td>1903.0</td>\n",
              "      <td>AT5X5K</td>\n",
              "      <td>22</td>\n",
              "      <td>A</td>\n",
              "      <td>AT</td>\n",
              "      <td>1921</td>\n",
              "      <td>2130.0</td>\n",
              "    </tr>\n",
              "    <tr>\n",
              "      <th>1</th>\n",
              "      <td>330.0</td>\n",
              "      <td>AT5X5K</td>\n",
              "      <td>ATN01K24P</td>\n",
              "      <td>NaN</td>\n",
              "      <td>A</td>\n",
              "      <td>1903.0</td>\n",
              "      <td>AT5X5K</td>\n",
              "      <td>22</td>\n",
              "      <td>A</td>\n",
              "      <td>AT</td>\n",
              "      <td>1921</td>\n",
              "      <td>2130.0</td>\n",
              "    </tr>\n",
              "    <tr>\n",
              "      <th>2</th>\n",
              "      <td>330.0</td>\n",
              "      <td>AT5X5K</td>\n",
              "      <td>ATN01K24P</td>\n",
              "      <td>NaN</td>\n",
              "      <td>A</td>\n",
              "      <td>1903.0</td>\n",
              "      <td>AT5X5K</td>\n",
              "      <td>22</td>\n",
              "      <td>A</td>\n",
              "      <td>AT</td>\n",
              "      <td>1921</td>\n",
              "      <td>2130.0</td>\n",
              "    </tr>\n",
              "    <tr>\n",
              "      <th>3</th>\n",
              "      <td>330.0</td>\n",
              "      <td>AT5X5K</td>\n",
              "      <td>ATN01K24P</td>\n",
              "      <td>NaN</td>\n",
              "      <td>A</td>\n",
              "      <td>1903.0</td>\n",
              "      <td>AT5X5K</td>\n",
              "      <td>22</td>\n",
              "      <td>A</td>\n",
              "      <td>AT</td>\n",
              "      <td>1921</td>\n",
              "      <td>2130.0</td>\n",
              "    </tr>\n",
              "    <tr>\n",
              "      <th>4</th>\n",
              "      <td>330.0</td>\n",
              "      <td>AT5X5K</td>\n",
              "      <td>ATN01K24P</td>\n",
              "      <td>NaN</td>\n",
              "      <td>A</td>\n",
              "      <td>1903.0</td>\n",
              "      <td>AT5X5K</td>\n",
              "      <td>22</td>\n",
              "      <td>A</td>\n",
              "      <td>AT</td>\n",
              "      <td>1916</td>\n",
              "      <td>1630.0</td>\n",
              "    </tr>\n",
              "  </tbody>\n",
              "</table>\n",
              "</div>\n",
              "    <div class=\"colab-df-buttons\">\n",
              "\n",
              "  <div class=\"colab-df-container\">\n",
              "    <button class=\"colab-df-convert\" onclick=\"convertToInteractive('df-5749e3f7-255b-4a6d-89bd-424b6bf22311')\"\n",
              "            title=\"Convert this dataframe to an interactive table.\"\n",
              "            style=\"display:none;\">\n",
              "\n",
              "  <svg xmlns=\"http://www.w3.org/2000/svg\" height=\"24px\" viewBox=\"0 -960 960 960\">\n",
              "    <path d=\"M120-120v-720h720v720H120Zm60-500h600v-160H180v160Zm220 220h160v-160H400v160Zm0 220h160v-160H400v160ZM180-400h160v-160H180v160Zm440 0h160v-160H620v160ZM180-180h160v-160H180v160Zm440 0h160v-160H620v160Z\"/>\n",
              "  </svg>\n",
              "    </button>\n",
              "\n",
              "  <style>\n",
              "    .colab-df-container {\n",
              "      display:flex;\n",
              "      gap: 12px;\n",
              "    }\n",
              "\n",
              "    .colab-df-convert {\n",
              "      background-color: #E8F0FE;\n",
              "      border: none;\n",
              "      border-radius: 50%;\n",
              "      cursor: pointer;\n",
              "      display: none;\n",
              "      fill: #1967D2;\n",
              "      height: 32px;\n",
              "      padding: 0 0 0 0;\n",
              "      width: 32px;\n",
              "    }\n",
              "\n",
              "    .colab-df-convert:hover {\n",
              "      background-color: #E2EBFA;\n",
              "      box-shadow: 0px 1px 2px rgba(60, 64, 67, 0.3), 0px 1px 3px 1px rgba(60, 64, 67, 0.15);\n",
              "      fill: #174EA6;\n",
              "    }\n",
              "\n",
              "    .colab-df-buttons div {\n",
              "      margin-bottom: 4px;\n",
              "    }\n",
              "\n",
              "    [theme=dark] .colab-df-convert {\n",
              "      background-color: #3B4455;\n",
              "      fill: #D2E3FC;\n",
              "    }\n",
              "\n",
              "    [theme=dark] .colab-df-convert:hover {\n",
              "      background-color: #434B5C;\n",
              "      box-shadow: 0px 1px 3px 1px rgba(0, 0, 0, 0.15);\n",
              "      filter: drop-shadow(0px 1px 2px rgba(0, 0, 0, 0.3));\n",
              "      fill: #FFFFFF;\n",
              "    }\n",
              "  </style>\n",
              "\n",
              "    <script>\n",
              "      const buttonEl =\n",
              "        document.querySelector('#df-5749e3f7-255b-4a6d-89bd-424b6bf22311 button.colab-df-convert');\n",
              "      buttonEl.style.display =\n",
              "        google.colab.kernel.accessAllowed ? 'block' : 'none';\n",
              "\n",
              "      async function convertToInteractive(key) {\n",
              "        const element = document.querySelector('#df-5749e3f7-255b-4a6d-89bd-424b6bf22311');\n",
              "        const dataTable =\n",
              "          await google.colab.kernel.invokeFunction('convertToInteractive',\n",
              "                                                    [key], {});\n",
              "        if (!dataTable) return;\n",
              "\n",
              "        const docLinkHtml = 'Like what you see? Visit the ' +\n",
              "          '<a target=\"_blank\" href=https://colab.research.google.com/notebooks/data_table.ipynb>data table notebook</a>'\n",
              "          + ' to learn more about interactive tables.';\n",
              "        element.innerHTML = '';\n",
              "        dataTable['output_type'] = 'display_data';\n",
              "        await google.colab.output.renderOutput(dataTable, element);\n",
              "        const docLink = document.createElement('div');\n",
              "        docLink.innerHTML = docLinkHtml;\n",
              "        element.appendChild(docLink);\n",
              "      }\n",
              "    </script>\n",
              "  </div>\n",
              "\n",
              "\n",
              "<div id=\"df-4d253f95-9e80-4e5f-b710-c9ed2cbb0e77\">\n",
              "  <button class=\"colab-df-quickchart\" onclick=\"quickchart('df-4d253f95-9e80-4e5f-b710-c9ed2cbb0e77')\"\n",
              "            title=\"Suggest charts\"\n",
              "            style=\"display:none;\">\n",
              "\n",
              "<svg xmlns=\"http://www.w3.org/2000/svg\" height=\"24px\"viewBox=\"0 0 24 24\"\n",
              "     width=\"24px\">\n",
              "    <g>\n",
              "        <path d=\"M19 3H5c-1.1 0-2 .9-2 2v14c0 1.1.9 2 2 2h14c1.1 0 2-.9 2-2V5c0-1.1-.9-2-2-2zM9 17H7v-7h2v7zm4 0h-2V7h2v10zm4 0h-2v-4h2v4z\"/>\n",
              "    </g>\n",
              "</svg>\n",
              "  </button>\n",
              "\n",
              "<style>\n",
              "  .colab-df-quickchart {\n",
              "      --bg-color: #E8F0FE;\n",
              "      --fill-color: #1967D2;\n",
              "      --hover-bg-color: #E2EBFA;\n",
              "      --hover-fill-color: #174EA6;\n",
              "      --disabled-fill-color: #AAA;\n",
              "      --disabled-bg-color: #DDD;\n",
              "  }\n",
              "\n",
              "  [theme=dark] .colab-df-quickchart {\n",
              "      --bg-color: #3B4455;\n",
              "      --fill-color: #D2E3FC;\n",
              "      --hover-bg-color: #434B5C;\n",
              "      --hover-fill-color: #FFFFFF;\n",
              "      --disabled-bg-color: #3B4455;\n",
              "      --disabled-fill-color: #666;\n",
              "  }\n",
              "\n",
              "  .colab-df-quickchart {\n",
              "    background-color: var(--bg-color);\n",
              "    border: none;\n",
              "    border-radius: 50%;\n",
              "    cursor: pointer;\n",
              "    display: none;\n",
              "    fill: var(--fill-color);\n",
              "    height: 32px;\n",
              "    padding: 0;\n",
              "    width: 32px;\n",
              "  }\n",
              "\n",
              "  .colab-df-quickchart:hover {\n",
              "    background-color: var(--hover-bg-color);\n",
              "    box-shadow: 0 1px 2px rgba(60, 64, 67, 0.3), 0 1px 3px 1px rgba(60, 64, 67, 0.15);\n",
              "    fill: var(--button-hover-fill-color);\n",
              "  }\n",
              "\n",
              "  .colab-df-quickchart-complete:disabled,\n",
              "  .colab-df-quickchart-complete:disabled:hover {\n",
              "    background-color: var(--disabled-bg-color);\n",
              "    fill: var(--disabled-fill-color);\n",
              "    box-shadow: none;\n",
              "  }\n",
              "\n",
              "  .colab-df-spinner {\n",
              "    border: 2px solid var(--fill-color);\n",
              "    border-color: transparent;\n",
              "    border-bottom-color: var(--fill-color);\n",
              "    animation:\n",
              "      spin 1s steps(1) infinite;\n",
              "  }\n",
              "\n",
              "  @keyframes spin {\n",
              "    0% {\n",
              "      border-color: transparent;\n",
              "      border-bottom-color: var(--fill-color);\n",
              "      border-left-color: var(--fill-color);\n",
              "    }\n",
              "    20% {\n",
              "      border-color: transparent;\n",
              "      border-left-color: var(--fill-color);\n",
              "      border-top-color: var(--fill-color);\n",
              "    }\n",
              "    30% {\n",
              "      border-color: transparent;\n",
              "      border-left-color: var(--fill-color);\n",
              "      border-top-color: var(--fill-color);\n",
              "      border-right-color: var(--fill-color);\n",
              "    }\n",
              "    40% {\n",
              "      border-color: transparent;\n",
              "      border-right-color: var(--fill-color);\n",
              "      border-top-color: var(--fill-color);\n",
              "    }\n",
              "    60% {\n",
              "      border-color: transparent;\n",
              "      border-right-color: var(--fill-color);\n",
              "    }\n",
              "    80% {\n",
              "      border-color: transparent;\n",
              "      border-right-color: var(--fill-color);\n",
              "      border-bottom-color: var(--fill-color);\n",
              "    }\n",
              "    90% {\n",
              "      border-color: transparent;\n",
              "      border-bottom-color: var(--fill-color);\n",
              "    }\n",
              "  }\n",
              "</style>\n",
              "\n",
              "  <script>\n",
              "    async function quickchart(key) {\n",
              "      const quickchartButtonEl =\n",
              "        document.querySelector('#' + key + ' button');\n",
              "      quickchartButtonEl.disabled = true;  // To prevent multiple clicks.\n",
              "      quickchartButtonEl.classList.add('colab-df-spinner');\n",
              "      try {\n",
              "        const charts = await google.colab.kernel.invokeFunction(\n",
              "            'suggestCharts', [key], {});\n",
              "      } catch (error) {\n",
              "        console.error('Error during call to suggestCharts:', error);\n",
              "      }\n",
              "      quickchartButtonEl.classList.remove('colab-df-spinner');\n",
              "      quickchartButtonEl.classList.add('colab-df-quickchart-complete');\n",
              "    }\n",
              "    (() => {\n",
              "      let quickchartButtonEl =\n",
              "        document.querySelector('#df-4d253f95-9e80-4e5f-b710-c9ed2cbb0e77 button');\n",
              "      quickchartButtonEl.style.display =\n",
              "        google.colab.kernel.accessAllowed ? 'block' : 'none';\n",
              "    })();\n",
              "  </script>\n",
              "</div>\n",
              "\n",
              "    </div>\n",
              "  </div>\n"
            ],
            "application/vnd.google.colaboratory.intrinsic+json": {
              "type": "dataframe",
              "variable_name": "df"
            }
          },
          "metadata": {},
          "execution_count": 6
        }
      ]
    },
    {
      "cell_type": "code",
      "source": [
        "df.info()\n",
        "print(df.head())\n",
        "for column in df.columns:\n",
        "    print(f\"{column} : {df[column].unique()}\")\n",
        "    print(\"====================================\")"
      ],
      "metadata": {
        "colab": {
          "base_uri": "https://localhost:8080/"
        },
        "id": "TRWXrjCAaQyW",
        "outputId": "49efb25d-52f0-4496-c066-d0f70b4e706e"
      },
      "execution_count": 7,
      "outputs": [
        {
          "output_type": "stream",
          "name": "stdout",
          "text": [
            "<class 'pandas.core.frame.DataFrame'>\n",
            "RangeIndex: 6857719 entries, 0 to 6857718\n",
            "Data columns (total 12 columns):\n",
            " #   Column              Dtype  \n",
            "---  ------              -----  \n",
            " 0   Storage Location_x  float64\n",
            " 1   node1               object \n",
            " 2   node2               object \n",
            " 3   SubGroupCode        object \n",
            " 4   GroupCode           object \n",
            " 5   Plant_x             float64\n",
            " 6   Node                object \n",
            " 7   NodeIndex           int64  \n",
            " 8   Group               object \n",
            " 9   Sub-Group           object \n",
            " 10  Plant_y             int64  \n",
            " 11  Storage Location_y  float64\n",
            "dtypes: float64(3), int64(2), object(7)\n",
            "memory usage: 627.8+ MB\n",
            "   Storage Location_x   node1      node2 SubGroupCode GroupCode  Plant_x  \\\n",
            "0               330.0  AT5X5K  ATN01K24P          NaN         A   1903.0   \n",
            "1               330.0  AT5X5K  ATN01K24P          NaN         A   1903.0   \n",
            "2               330.0  AT5X5K  ATN01K24P          NaN         A   1903.0   \n",
            "3               330.0  AT5X5K  ATN01K24P          NaN         A   1903.0   \n",
            "4               330.0  AT5X5K  ATN01K24P          NaN         A   1903.0   \n",
            "\n",
            "     Node  NodeIndex Group Sub-Group  Plant_y  Storage Location_y  \n",
            "0  AT5X5K         22     A        AT     1921              2130.0  \n",
            "1  AT5X5K         22     A        AT     1921              2130.0  \n",
            "2  AT5X5K         22     A        AT     1921              2130.0  \n",
            "3  AT5X5K         22     A        AT     1921              2130.0  \n",
            "4  AT5X5K         22     A        AT     1916              1630.0  \n",
            "Storage Location_x : [ 330. 2130. 1630. 1730. 2030. 2230. 1130. 1230. 1430. 1530. 1930. 1830.\n",
            "   nan  130.]\n",
            "====================================\n",
            "node1 : ['AT5X5K' 'ATN01K24P' 'ATN02K12P' 'ATPA1K24P' 'ATPPCH5X5K' 'ATWWP001K24P'\n",
            " 'ATWWP002K12P' 'EEA500G12P' 'MAHS025K' 'MAP1K25P' 'MAPA1K24P' 'MAR01K24P'\n",
            " 'MAR02K12P' 'MASR025K' 'POP001L12P' 'POP002L09P' 'POP005L04P' 'POP015K'\n",
            " 'POP500M24P' 'POPF01L12P' 'POV001L24P' 'POV002L09P' 'POV005L04P'\n",
            " 'POV500M24P' 'SE200G24P' 'SE500G24P' 'SO0001L12P' 'SO0002L09P'\n",
            " 'SO0005L04P' 'SO0500M24P' 'SOP001L12P' 'SOS001L12P' 'SOS002L09P'\n",
            " 'SOS003L04P' 'SOS005L04P' 'SOS008L02P' 'SOS250M48P' 'SOS500M24P']\n",
            "====================================\n",
            "node2 : ['ATN01K24P' 'ATN02K12P' 'ATPA1K24P' 'ATPPCH5X5K' 'ATWWP001K24P'\n",
            " 'ATWWP002K12P' 'EEA200G24P' 'EEA500G12P' 'MAC1K25P' 'MAHS025K' 'MAP1K25P'\n",
            " 'MAPA1K24P' 'MAR01K24P' 'MAR02K12P' 'MASR025K' 'POP001L12P' 'POP002L09P'\n",
            " 'POP005L04P' 'POP015K' 'POP500M24P' 'POPF01L12P' 'POV001L24P'\n",
            " 'POV002L09P' 'POV005L04P' 'POV500M24P' 'SE200G24P' 'SE500G24P'\n",
            " 'SO0001L12P' 'SO0002L09P' 'SO0005L04P' 'SO0500M24P' 'SOP001L12P'\n",
            " 'SOS001L12P' 'SOS002L09P' 'SOS003L04P' 'SOS005L04P' 'SOS008L02P'\n",
            " 'SOS250M48P' 'SOS500M24P' 'AT5X5K']\n",
            "====================================\n",
            "SubGroupCode : [nan 'ATN' 'ATWWP' 'EEA' 'MAR' 'POP' 'POV' 'SE' 'SO' 'SOS']\n",
            "====================================\n",
            "GroupCode : ['A' nan 'S' 'M' 'P']\n",
            "====================================\n",
            "Plant_x : [1903. 1921. 1916. 1917. 1920. 1922. 1911. 1912. 1914. 1915. 1919.   nan\n",
            " 1918. 1901. 2120. 2112. 2114. 2115. 2116. 2117. 2118. 2119. 2103. 2111.\n",
            " 2121. 2122.]\n",
            "====================================\n",
            "Node : ['AT5X5K' 'ATN01K24P' 'ATN02K12P' 'ATPA1K24P' 'ATPPCH5X5K' 'ATWWP001K24P'\n",
            " 'ATWWP002K12P' 'EEA500G12P' 'MAHS025K' 'MAP1K25P' 'MAPA1K24P' 'MAR01K24P'\n",
            " 'MAR02K12P' 'MASR025K' 'POP001L12P' 'POP002L09P' 'POP005L04P' 'POP015K'\n",
            " 'POP500M24P' 'POPF01L12P' 'POV001L24P' 'POV002L09P' 'POV005L04P'\n",
            " 'POV500M24P' 'SE200G24P' 'SE500G24P' 'SO0001L12P' 'SO0002L09P'\n",
            " 'SO0005L04P' 'SO0500M24P' 'SOP001L12P' 'SOS001L12P' 'SOS002L09P'\n",
            " 'SOS003L04P' 'SOS005L04P' 'SOS008L02P' 'SOS250M48P' 'SOS500M24P']\n",
            "====================================\n",
            "NodeIndex : [22 24 23 34 33 28 27 38 30 36 35 26 25 29 12 19 18 13 20 21 10  9  8 11\n",
            " 32 31 16 15 14 17  7  4  3  2  1  0  6  5]\n",
            "====================================\n",
            "Group : ['A' 'E' 'M' 'P' 'S']\n",
            "====================================\n",
            "Sub-Group : ['AT' 'ATN' 'ATPA' 'ATPPCH' 'ATWWP' 'EEA' 'MAHS' 'MAP' 'MAPA' 'MAR' 'MASR'\n",
            " 'POP' 'POPF' 'POV' 'SE' 'SO' 'SOP' 'SOS']\n",
            "====================================\n",
            "Plant_y : [1921 1916 1920 1915 1922 1912 1903 1914 1917 1918 1911 1919 1901 2120\n",
            " 2116 2121 2117 2112 2115 2119 2118 2114 2111 2103 2122]\n",
            "====================================\n",
            "Storage Location_y : [2130. 1630. 2030. 1530. 2230. 1230.  330. 1430. 1730. 1830. 1130. 1930.\n",
            "  130.   nan]\n",
            "====================================\n"
          ]
        }
      ]
    },
    {
      "cell_type": "code",
      "source": [
        "#Count null values in each column\n",
        "null_counts = df.isnull().sum()\n",
        "\n",
        "print(\"Null Values per Column:\")\n",
        "print(null_counts)\n"
      ],
      "metadata": {
        "colab": {
          "base_uri": "https://localhost:8080/"
        },
        "id": "MarSUutdcpq4",
        "outputId": "b82c405f-eb1c-4452-b239-362d6a0105b2"
      },
      "execution_count": 9,
      "outputs": [
        {
          "output_type": "stream",
          "name": "stdout",
          "text": [
            "Null Values per Column:\n",
            "Storage Location_x        306\n",
            "node1                       0\n",
            "node2                       0\n",
            "SubGroupCode          5502751\n",
            "GroupCode             5107300\n",
            "Plant_x                554073\n",
            "Node                        0\n",
            "NodeIndex                   0\n",
            "Group                       0\n",
            "Sub-Group                   0\n",
            "Plant_y                     0\n",
            "Storage Location_y         58\n",
            "dtype: int64\n"
          ]
        }
      ]
    },
    {
      "cell_type": "markdown",
      "source": [
        "Data Cleaning"
      ],
      "metadata": {
        "id": "QKUDhLALdeXS"
      }
    },
    {
      "cell_type": "code",
      "source": [
        "#Drop columns with too many missing values\n",
        "df = df.drop(columns=['SubGroupCode', 'GroupCode'], errors='ignore')\n",
        "\n",
        "#Fill missing values using mode\n",
        "df = df.assign(\n",
        "    **{\n",
        "        'Storage Location_x': df['Storage Location_x'].fillna(df['Storage Location_x'].mode()[0]),\n",
        "        'Plant_x': df['Plant_x'].fillna(df['Plant_x'].mode()[0]),\n",
        "        'Storage Location_y': df['Storage Location_y'].fillna(df['Storage Location_y'].mode()[0])\n",
        "    }\n",
        ")\n",
        "\n",
        "#Verify that missing values are handled\n",
        "print(df.isnull().sum())\n"
      ],
      "metadata": {
        "colab": {
          "base_uri": "https://localhost:8080/"
        },
        "id": "vTWZzadhdg7w",
        "outputId": "0c041e52-8a3a-4638-860d-bda8de487622"
      },
      "execution_count": 11,
      "outputs": [
        {
          "output_type": "stream",
          "name": "stdout",
          "text": [
            "Storage Location_x    0\n",
            "node1                 0\n",
            "node2                 0\n",
            "Plant_x               0\n",
            "Node                  0\n",
            "NodeIndex             0\n",
            "Group                 0\n",
            "Sub-Group             0\n",
            "Plant_y               0\n",
            "Storage Location_y    0\n",
            "dtype: int64\n"
          ]
        }
      ]
    },
    {
      "cell_type": "code",
      "source": [
        "#Check for duplicate rows\n",
        "duplicate_count = df.duplicated().sum()\n",
        "print(f\"Number of duplicate rows: {duplicate_count}\")\n",
        "\n",
        "#Remove duplicates\n",
        "df = df.drop_duplicates()\n"
      ],
      "metadata": {
        "colab": {
          "base_uri": "https://localhost:8080/"
        },
        "id": "dOzq_ApDfO42",
        "outputId": "508000fe-57bb-49c7-8a10-3b62acdfb45c"
      },
      "execution_count": 12,
      "outputs": [
        {
          "output_type": "stream",
          "name": "stdout",
          "text": [
            "Number of duplicate rows: 6730049\n"
          ]
        }
      ]
    },
    {
      "cell_type": "code",
      "source": [
        "import matplotlib.pyplot as plt\n",
        "import seaborn as sns\n",
        "\n",
        "#Boxplot to visualize outliers\n",
        "plt.figure(figsize=(10, 5))\n",
        "sns.boxplot(x=df['NodeIndex'])\n",
        "plt.title(\"Outliers in NodeIndex\")\n",
        "plt.show()\n"
      ],
      "metadata": {
        "colab": {
          "base_uri": "https://localhost:8080/",
          "height": 487
        },
        "id": "R7J0bC99fetE",
        "outputId": "5faca29a-d885-4264-a822-f99240d7927a"
      },
      "execution_count": 13,
      "outputs": [
        {
          "output_type": "display_data",
          "data": {
            "text/plain": [
              "<Figure size 1000x500 with 1 Axes>"
            ],
            "image/png": "[encoded data removed]"
          },
          "metadata": {}
        }
      ]
    },
    {
      "cell_type": "code",
      "source": [
        "#Remove rows where NodeIndex is above the 99th percentile\n",
        "df = df[df['NodeIndex'] < df['NodeIndex'].quantile(0.99)]\n"
      ],
      "metadata": {
        "id": "ka8jhcIifxQH"
      },
      "execution_count": 14,
      "outputs": []
    },
    {
      "cell_type": "code",
      "source": [
        "print(df.isnull().sum())\n"
      ],
      "metadata": {
        "colab": {
          "base_uri": "https://localhost:8080/"
        },
        "id": "FW4V97wNf1NG",
        "outputId": "a755a889-46d9-4463-8315-293bc54d71dc"
      },
      "execution_count": 16,
      "outputs": [
        {
          "output_type": "stream",
          "name": "stdout",
          "text": [
            "Storage Location_x    0\n",
            "node1                 0\n",
            "node2                 0\n",
            "Plant_x               0\n",
            "Node                  0\n",
            "NodeIndex             0\n",
            "Group                 0\n",
            "Sub-Group             0\n",
            "Plant_y               0\n",
            "Storage Location_y    0\n",
            "dtype: int64\n"
          ]
        }
      ]
    },
    {
      "cell_type": "code",
      "source": [
        "#save the cleaned dataframe\n",
        "df.to_csv(\"cleaned_supplygraph.csv\", index=False)\n"
      ],
      "metadata": {
        "id": "0saL4mAugBY8"
      },
      "execution_count": 17,
      "outputs": []
    },
    {
      "cell_type": "markdown",
      "source": [
        "Visualization"
      ],
      "metadata": {
        "id": "17eb6zhNgq7C"
      }
    },
    {
      "cell_type": "code",
      "source": [
        "plt.figure(figsize=(30,30))\n",
        "\n",
        "# Select only numeric columns\n",
        "df_numeric = df.select_dtypes(include=['number'])\n",
        "\n",
        "# Compute correlation\n",
        "corr = df_numeric.corr()\n",
        "\n",
        "# Plot the heatmap\n",
        "sns.heatmap(corr, cmap='viridis', annot=True)\n",
        "\n"
      ],
      "metadata": {
        "colab": {
          "base_uri": "https://localhost:8080/",
          "height": 1000
        },
        "id": "yeCmJJmPgz_r",
        "outputId": "4928f446-0c42-4d26-b49c-69b6193caca7"
      },
      "execution_count": 18,
      "outputs": [
        {
          "output_type": "execute_result",
          "data": {
            "text/plain": [
              "<Axes: >"
            ]
          },
          "metadata": {},
          "execution_count": 18
        },
        {
          "output_type": "display_data",
          "data": {
            "text/plain": [
              "<Figure size 3000x3000 with 2 Axes>"
            ],
            "image/png": "[encoded data removed]"
          },
          "metadata": {}
        }
      ]
    }
  ]
}